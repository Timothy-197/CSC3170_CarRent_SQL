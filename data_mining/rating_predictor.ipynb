{
 "cells": [
  {
   "cell_type": "markdown",
   "source": [
    "## The predictor for the car ratings"
   ],
   "metadata": {
    "collapsed": false,
    "pycharm": {
     "name": "#%% md\n"
    }
   }
  },
  {
   "cell_type": "markdown",
   "source": [
    "The predictor is built with decision tree regressor\n",
    "Reference dataset: https://www.kaggle.com/datasets/kushleshkumar/cornell-car-rental-dataset?resource=download"
   ],
   "metadata": {
    "collapsed": false,
    "pycharm": {
     "name": "#%% md\n"
    }
   }
  },
  {
   "cell_type": "code",
   "execution_count": 94,
   "outputs": [],
   "source": [
    "\"\"\"\n",
    "    Dependencies\n",
    "\"\"\"\n",
    "import pandas as pd\n",
    "import numpy as np\n",
    "import datetime\n",
    "from sklearn import model_selection\n",
    "from sklearn.tree import DecisionTreeRegressor\n",
    "from sklearn import tree\n",
    "from sklearn import metrics\n",
    "import matplotlib.pyplot as plt\n"
   ],
   "metadata": {
    "collapsed": false,
    "pycharm": {
     "name": "#%%\n"
    }
   }
  },
  {
   "cell_type": "code",
   "execution_count": 95,
   "outputs": [
    {
     "name": "stdout",
     "output_type": "stream",
     "text": [
      "Empty DataFrame\n",
      "Columns: [fuelType, rating, renterTripsTaken, reviewCount, location.city, location.country, location.latitude, location.longitude, location.state, owner.id, rate.daily, vehicle.make, vehicle.model, vehicle.type, vehicle.year]\n",
      "Index: []\n",
      "Empty DataFrame\n",
      "Columns: [fuelType, rating, renterTripsTaken, reviewCount, location.latitude, location.longitude, rate.daily, vehicle.make, vehicle.model, vehicle.type, vehicle.year]\n",
      "Index: []\n",
      "Wall time: 88 ms\n"
     ]
    },
    {
     "data": {
      "text/plain": "      rating  renterTripsTaken  reviewCount  location.latitude  \\\n0       5.00                13           12          47.449107   \n1       5.00                 2            1          35.111060   \n2       4.92                28           24          35.127163   \n3       5.00                21           20          35.149726   \n4       5.00                 3            1          35.208659   \n...      ...               ...          ...                ...   \n5845    5.00                 2            2          21.435401   \n5846    5.00                32           27          21.292950   \n5847    5.00                17           16          21.375507   \n5848    4.94                18           17          21.378719   \n5850    5.00                16           14          21.378040   \n\n      location.longitude  rate.daily  time_diff  DIESEL  ELECTRIC  GASOLINE  \\\n0            -122.308841         135          1       0         1         0   \n1            -106.276551         190          2       0         1         0   \n2            -106.566681          35          8       0         0         0   \n3            -106.711425          75          2       0         0         1   \n4            -106.601008          47         10       0         0         1   \n...                  ...         ...        ...     ...       ...       ...   \n5845         -158.019400          50          6       0         0         1   \n5846         -157.836856          33          3       0         0         1   \n5847         -157.914919          49         10       0         0         0   \n5848         -157.727816          35          7       0         0         1   \n5850         -157.730000          35          7       0         0         1   \n\n      ...  Saab  Saturn  Scion  Subaru  Suzuki  Tesla  Toyota  Volkswagen  \\\n0     ...     0       0      0       0       0      1       0           0   \n1     ...     0       0      0       0       0      1       0           0   \n2     ...     0       0      0       0       0      0       1           0   \n3     ...     0       0      0       0       0      0       0           0   \n4     ...     0       0      0       0       0      0       0           0   \n...   ...   ...     ...    ...     ...     ...    ...     ...         ...   \n5845  ...     0       0      0       0       0      0       0           0   \n5846  ...     0       0      0       0       0      0       0           0   \n5847  ...     0       0      0       0       0      0       0           0   \n5848  ...     0       0      0       0       0      0       0           0   \n5850  ...     0       0      0       0       0      0       0           0   \n\n      Volvo  smart  \n0         0      0  \n1         0      0  \n2         0      0  \n3         0      0  \n4         0      0  \n...     ...    ...  \n5845      0      0  \n5846      0      0  \n5847      0      0  \n5848      0      1  \n5850      0      1  \n\n[5350 rows x 70 columns]",
      "text/html": "<div>\n<style scoped>\n    .dataframe tbody tr th:only-of-type {\n        vertical-align: middle;\n    }\n\n    .dataframe tbody tr th {\n        vertical-align: top;\n    }\n\n    .dataframe thead th {\n        text-align: right;\n    }\n</style>\n<table border=\"1\" class=\"dataframe\">\n  <thead>\n    <tr style=\"text-align: right;\">\n      <th></th>\n      <th>rating</th>\n      <th>renterTripsTaken</th>\n      <th>reviewCount</th>\n      <th>location.latitude</th>\n      <th>location.longitude</th>\n      <th>rate.daily</th>\n      <th>time_diff</th>\n      <th>DIESEL</th>\n      <th>ELECTRIC</th>\n      <th>GASOLINE</th>\n      <th>...</th>\n      <th>Saab</th>\n      <th>Saturn</th>\n      <th>Scion</th>\n      <th>Subaru</th>\n      <th>Suzuki</th>\n      <th>Tesla</th>\n      <th>Toyota</th>\n      <th>Volkswagen</th>\n      <th>Volvo</th>\n      <th>smart</th>\n    </tr>\n  </thead>\n  <tbody>\n    <tr>\n      <th>0</th>\n      <td>5.00</td>\n      <td>13</td>\n      <td>12</td>\n      <td>47.449107</td>\n      <td>-122.308841</td>\n      <td>135</td>\n      <td>1</td>\n      <td>0</td>\n      <td>1</td>\n      <td>0</td>\n      <td>...</td>\n      <td>0</td>\n      <td>0</td>\n      <td>0</td>\n      <td>0</td>\n      <td>0</td>\n      <td>1</td>\n      <td>0</td>\n      <td>0</td>\n      <td>0</td>\n      <td>0</td>\n    </tr>\n    <tr>\n      <th>1</th>\n      <td>5.00</td>\n      <td>2</td>\n      <td>1</td>\n      <td>35.111060</td>\n      <td>-106.276551</td>\n      <td>190</td>\n      <td>2</td>\n      <td>0</td>\n      <td>1</td>\n      <td>0</td>\n      <td>...</td>\n      <td>0</td>\n      <td>0</td>\n      <td>0</td>\n      <td>0</td>\n      <td>0</td>\n      <td>1</td>\n      <td>0</td>\n      <td>0</td>\n      <td>0</td>\n      <td>0</td>\n    </tr>\n    <tr>\n      <th>2</th>\n      <td>4.92</td>\n      <td>28</td>\n      <td>24</td>\n      <td>35.127163</td>\n      <td>-106.566681</td>\n      <td>35</td>\n      <td>8</td>\n      <td>0</td>\n      <td>0</td>\n      <td>0</td>\n      <td>...</td>\n      <td>0</td>\n      <td>0</td>\n      <td>0</td>\n      <td>0</td>\n      <td>0</td>\n      <td>0</td>\n      <td>1</td>\n      <td>0</td>\n      <td>0</td>\n      <td>0</td>\n    </tr>\n    <tr>\n      <th>3</th>\n      <td>5.00</td>\n      <td>21</td>\n      <td>20</td>\n      <td>35.149726</td>\n      <td>-106.711425</td>\n      <td>75</td>\n      <td>2</td>\n      <td>0</td>\n      <td>0</td>\n      <td>1</td>\n      <td>...</td>\n      <td>0</td>\n      <td>0</td>\n      <td>0</td>\n      <td>0</td>\n      <td>0</td>\n      <td>0</td>\n      <td>0</td>\n      <td>0</td>\n      <td>0</td>\n      <td>0</td>\n    </tr>\n    <tr>\n      <th>4</th>\n      <td>5.00</td>\n      <td>3</td>\n      <td>1</td>\n      <td>35.208659</td>\n      <td>-106.601008</td>\n      <td>47</td>\n      <td>10</td>\n      <td>0</td>\n      <td>0</td>\n      <td>1</td>\n      <td>...</td>\n      <td>0</td>\n      <td>0</td>\n      <td>0</td>\n      <td>0</td>\n      <td>0</td>\n      <td>0</td>\n      <td>0</td>\n      <td>0</td>\n      <td>0</td>\n      <td>0</td>\n    </tr>\n    <tr>\n      <th>...</th>\n      <td>...</td>\n      <td>...</td>\n      <td>...</td>\n      <td>...</td>\n      <td>...</td>\n      <td>...</td>\n      <td>...</td>\n      <td>...</td>\n      <td>...</td>\n      <td>...</td>\n      <td>...</td>\n      <td>...</td>\n      <td>...</td>\n      <td>...</td>\n      <td>...</td>\n      <td>...</td>\n      <td>...</td>\n      <td>...</td>\n      <td>...</td>\n      <td>...</td>\n      <td>...</td>\n    </tr>\n    <tr>\n      <th>5845</th>\n      <td>5.00</td>\n      <td>2</td>\n      <td>2</td>\n      <td>21.435401</td>\n      <td>-158.019400</td>\n      <td>50</td>\n      <td>6</td>\n      <td>0</td>\n      <td>0</td>\n      <td>1</td>\n      <td>...</td>\n      <td>0</td>\n      <td>0</td>\n      <td>0</td>\n      <td>0</td>\n      <td>0</td>\n      <td>0</td>\n      <td>0</td>\n      <td>0</td>\n      <td>0</td>\n      <td>0</td>\n    </tr>\n    <tr>\n      <th>5846</th>\n      <td>5.00</td>\n      <td>32</td>\n      <td>27</td>\n      <td>21.292950</td>\n      <td>-157.836856</td>\n      <td>33</td>\n      <td>3</td>\n      <td>0</td>\n      <td>0</td>\n      <td>1</td>\n      <td>...</td>\n      <td>0</td>\n      <td>0</td>\n      <td>0</td>\n      <td>0</td>\n      <td>0</td>\n      <td>0</td>\n      <td>0</td>\n      <td>0</td>\n      <td>0</td>\n      <td>0</td>\n    </tr>\n    <tr>\n      <th>5847</th>\n      <td>5.00</td>\n      <td>17</td>\n      <td>16</td>\n      <td>21.375507</td>\n      <td>-157.914919</td>\n      <td>49</td>\n      <td>10</td>\n      <td>0</td>\n      <td>0</td>\n      <td>0</td>\n      <td>...</td>\n      <td>0</td>\n      <td>0</td>\n      <td>0</td>\n      <td>0</td>\n      <td>0</td>\n      <td>0</td>\n      <td>0</td>\n      <td>0</td>\n      <td>0</td>\n      <td>0</td>\n    </tr>\n    <tr>\n      <th>5848</th>\n      <td>4.94</td>\n      <td>18</td>\n      <td>17</td>\n      <td>21.378719</td>\n      <td>-157.727816</td>\n      <td>35</td>\n      <td>7</td>\n      <td>0</td>\n      <td>0</td>\n      <td>1</td>\n      <td>...</td>\n      <td>0</td>\n      <td>0</td>\n      <td>0</td>\n      <td>0</td>\n      <td>0</td>\n      <td>0</td>\n      <td>0</td>\n      <td>0</td>\n      <td>0</td>\n      <td>1</td>\n    </tr>\n    <tr>\n      <th>5850</th>\n      <td>5.00</td>\n      <td>16</td>\n      <td>14</td>\n      <td>21.378040</td>\n      <td>-157.730000</td>\n      <td>35</td>\n      <td>7</td>\n      <td>0</td>\n      <td>0</td>\n      <td>1</td>\n      <td>...</td>\n      <td>0</td>\n      <td>0</td>\n      <td>0</td>\n      <td>0</td>\n      <td>0</td>\n      <td>0</td>\n      <td>0</td>\n      <td>0</td>\n      <td>0</td>\n      <td>1</td>\n    </tr>\n  </tbody>\n</table>\n<p>5350 rows × 70 columns</p>\n</div>"
     },
     "execution_count": 95,
     "metadata": {},
     "output_type": "execute_result"
    }
   ],
   "source": [
    "%%time\n",
    "\"\"\"\n",
    "    Read dataset and process data\n",
    "\"\"\"\n",
    "\n",
    "# read the dataset\n",
    "Data = pd.read_csv('CarRentalData.csv')\n",
    "print(Data.head(0))\n",
    "\n",
    "# process data: drop unecessary columns\n",
    "#   drop city for there are too many cities\n",
    "#   drop country for there is only one country\n",
    "Data = Data.drop(['owner.id', 'location.city', 'location.country', 'location.state'], axis=1)\n",
    "print(Data.head(0))\n",
    "\n",
    "# process data: change year to time difference\n",
    "# year_now = datetime.datetime.now().year\n",
    "year_now = 2020\n",
    "year_now_arr = pd.array([year_now]*Data.shape[0])\n",
    "time_diff = year_now_arr - Data['vehicle.year']\n",
    "Data = Data.drop(['vehicle.year'], axis=1)\n",
    "Data['time_diff'] = time_diff\n",
    "\n",
    "# process data: one-hot encodings\n",
    "# Data['vehicle.make.model'] = Data['vehicle.make'] + '-' + Data['vehicle.model']\n",
    "Data['vehicle.make.model'] = Data['vehicle.make']\n",
    "Data = Data.drop(['vehicle.make', 'vehicle.model'], axis=1)\n",
    "def oneHotEncode(df, col_list):\n",
    "    for i in range(0, len(col_list)):\n",
    "        col = col_list[i]\n",
    "        # Get one hot encoding of columns B\n",
    "        one_hot = pd.get_dummies(df[col])\n",
    "        # Drop column B as it is now encoded\n",
    "        df = df.drop([col],axis = 1)\n",
    "        # Join the encoded df\n",
    "        df = df.join(one_hot)\n",
    "    return df\n",
    "\n",
    "type_columns = ['fuelType', 'vehicle.type', 'vehicle.make.model']\n",
    "Data = oneHotEncode(Data, type_columns)\n",
    "\n",
    "# get rid of rating with nan value\n",
    "Data = Data.dropna()\n",
    "\n",
    "Data"
   ],
   "metadata": {
    "collapsed": false,
    "pycharm": {
     "name": "#%%\n"
    }
   }
  },
  {
   "cell_type": "code",
   "execution_count": 96,
   "outputs": [
    {
     "name": "stdout",
     "output_type": "stream",
     "text": [
      "(4012, 69)\n",
      "(4012,)\n",
      "Wall time: 15.2 s\n"
     ]
    },
    {
     "data": {
      "text/plain": "GridSearchCV(cv=5, estimator=DecisionTreeRegressor(),\n             param_grid={'max_depth': array([3, 4, 5]),\n                         'max_features': ['auto', 'sqrt', 'log2'],\n                         'min_samples_leaf': array([1, 2, 3, 4]),\n                         'min_samples_split': array([2, 3, 4])})"
     },
     "execution_count": 96,
     "metadata": {},
     "output_type": "execute_result"
    }
   ],
   "source": [
    "%%time\n",
    "\"\"\"\n",
    "    Use grid search to build a decision tree to predict\n",
    "\"\"\"\n",
    "parameters = {\n",
    "    'max_depth': np.arange(3, 6, 1),\n",
    "    'min_samples_split': np.arange(2, 5, 1),\n",
    "    'min_samples_leaf': np.arange(1, 5, 1),\n",
    "    'max_features': ['auto', 'sqrt', 'log2']\n",
    "}\n",
    "\n",
    "reg_dt = model_selection.GridSearchCV(\n",
    "    estimator=DecisionTreeRegressor(),\n",
    "    param_grid=parameters,\n",
    "    cv=5\n",
    ")\n",
    "\n",
    "# split the dataset\n",
    "X = Data.drop(['rating'], axis=1)\n",
    "Y = Data['rating']\n",
    "X_train, X_test, Y_train, Y_test = model_selection.train_test_split(X, Y)\n",
    "print(X_train.shape)\n",
    "print(Y_train.shape)\n",
    "# train the dataset\n",
    "reg_dt.fit(X_train, Y_train)"
   ],
   "metadata": {
    "collapsed": false,
    "pycharm": {
     "name": "#%%\n"
    }
   }
  },
  {
   "cell_type": "code",
   "execution_count": 97,
   "outputs": [
    {
     "name": "stdout",
     "output_type": "stream",
     "text": [
      "DecisionTreeRegressor(max_depth=3, max_features='sqrt', min_samples_leaf=3,\n",
      "                      min_samples_split=4)\n",
      "0.034254793294088225\n",
      "0.029353988580720074\n",
      "0.09663184324498753\n",
      "0.0934277065169588\n"
     ]
    }
   ],
   "source": [
    "# get the decision tree model, check the metric\n",
    "dt = reg_dt.best_estimator_\n",
    "print(dt)\n",
    "print(metrics.mean_squared_error(dt.predict(X_train), Y_train))\n",
    "print(metrics.mean_squared_error(dt.predict(X_test), Y_test))\n",
    "print(metrics.mean_absolute_error(dt.predict(X_train), Y_train))\n",
    "print(metrics.mean_absolute_error(dt.predict(X_test), Y_test))"
   ],
   "metadata": {
    "collapsed": false,
    "pycharm": {
     "name": "#%%\n"
    }
   }
  },
  {
   "cell_type": "code",
   "execution_count": 98,
   "outputs": [
    {
     "data": {
      "text/plain": "<Figure size 432x288 with 1 Axes>",
      "image/png": "[encoded data removed]"
     },
     "metadata": {
      "needs_background": "light"
     },
     "output_type": "display_data"
    }
   ],
   "source": [
    "\"\"\"\n",
    "    visualize the prediction result\n",
    "\"\"\"\n",
    "# plot the scatter graph to compare labels and predictions\n",
    "x_axis = np.arange(1, Y_train.shape[0]+1, 1)\n",
    "# s = [0**n for n in range(len(x_axis))]\n",
    "plt.scatter(x_axis, Y_train, color='c', label='labels', s=0.5)\n",
    "plt.scatter(x_axis, dt.predict(X_train), color='r', label='prediction', s=0.5)\n",
    "plt.xlabel(\"rating index\")\n",
    "plt.ylabel('rating')\n",
    "plt.legend()\n",
    "plt.show()"
   ],
   "metadata": {
    "collapsed": false,
    "pycharm": {
     "name": "#%%\n"
    }
   }
  },
  {
   "cell_type": "code",
   "execution_count": 100,
   "outputs": [
    {
     "data": {
      "text/plain": "[Text(167.4, 190.26, 'X[13] <= 0.5\\nmse = 0.035\\nsamples = 4012\\nvalue = 4.92'),\n Text(83.7, 135.9, 'X[0] <= 98.5\\nmse = 0.035\\nsamples = 3891\\nvalue = 4.918'),\n Text(41.85, 81.53999999999999, 'X[2] <= 30.081\\nmse = 0.038\\nsamples = 3565\\nvalue = 4.922'),\n Text(20.925, 27.180000000000007, 'mse = 0.076\\nsamples = 771\\nvalue = 4.903'),\n Text(62.775000000000006, 27.180000000000007, 'mse = 0.027\\nsamples = 2794\\nvalue = 4.927'),\n Text(125.55000000000001, 81.53999999999999, 'X[1] <= 79.5\\nmse = 0.01\\nsamples = 326\\nvalue = 4.881'),\n Text(104.625, 27.180000000000007, 'mse = 0.019\\nsamples = 13\\nvalue = 4.749'),\n Text(146.475, 27.180000000000007, 'mse = 0.009\\nsamples = 313\\nvalue = 4.886'),\n Text(251.10000000000002, 135.9, 'X[30] <= 0.5\\nmse = 0.006\\nsamples = 121\\nvalue = 4.965'),\n Text(209.25, 81.53999999999999, 'X[38] <= 0.5\\nmse = 0.007\\nsamples = 114\\nvalue = 4.964'),\n Text(188.32500000000002, 27.180000000000007, 'mse = 0.007\\nsamples = 105\\nvalue = 4.962'),\n Text(230.175, 27.180000000000007, 'mse = 0.0\\nsamples = 9\\nvalue = 4.991'),\n Text(292.95, 81.53999999999999, 'X[4] <= 78.0\\nmse = 0.001\\nsamples = 7\\nvalue = 4.983'),\n Text(272.02500000000003, 27.180000000000007, 'mse = 0.0\\nsamples = 4\\nvalue = 4.99'),\n Text(313.875, 27.180000000000007, 'mse = 0.001\\nsamples = 3\\nvalue = 4.973')]"
     },
     "execution_count": 100,
     "metadata": {},
     "output_type": "execute_result"
    },
    {
     "data": {
      "text/plain": "<Figure size 432x288 with 1 Axes>",
      "image/png": "[encoded data removed]"
     },
     "metadata": {
      "needs_background": "light"
     },
     "output_type": "display_data"
    }
   ],
   "source": [
    "\"\"\"\n",
    "    Visualize the tree structure\n",
    "\"\"\"\n",
    "# plot the decision tree structure\n",
    "tree.plot_tree(dt)\n",
    "#tree.export_graphviz(dt, out_file='decision_tree.dot')"
   ],
   "metadata": {
    "collapsed": false,
    "pycharm": {
     "name": "#%%\n"
    }
   }
  }
 ],
 "metadata": {
  "kernelspec": {
   "display_name": "Python 3",
   "language": "python",
   "name": "python3"
  },
  "language_info": {
   "codemirror_mode": {
    "name": "ipython",
    "version": 2
   },
   "file_extension": ".py",
   "mimetype": "text/x-python",
   "name": "python",
   "nbconvert_exporter": "python",
   "pygments_lexer": "ipython2",
   "version": "2.7.6"
  }
 },
 "nbformat": 4,
 "nbformat_minor": 0
}